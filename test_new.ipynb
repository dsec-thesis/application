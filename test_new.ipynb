{
 "cells": [
  {
   "cell_type": "code",
   "execution_count": 4,
   "id": "e8cda8dc-edef-4e0b-bb39-9913b7c62d93",
   "metadata": {
    "tags": []
   },
   "outputs": [
    {
     "name": "stdout",
     "output_type": "stream",
     "text": [
      "6dhuefy5nxrr\n"
     ]
    }
   ],
   "source": [
    "import pygeohash as pgh\n",
    "lat = -32.943323\n",
    "lng = -60.6469889\n",
    "\n",
    "radio = 10\n",
    "\n",
    "geohash = pgh.encode(lat, lng, precision=12)\n",
    "print(geohash)"
   ]
  },
  {
   "cell_type": "code",
   "execution_count": 5,
   "id": "e8bbfbc8-9fab-4c3b-b9ed-bd00da20975c",
   "metadata": {
    "tags": []
   },
   "outputs": [
    {
     "name": "stdout",
     "output_type": "stream",
     "text": [
      "-32.943323040381074 -60.64698899164796 8.381903171539307e-08 1.6763806343078613e-07\n"
     ]
    }
   ],
   "source": [
    "lat_min, lon_min, lat_max, lon_max = pgh.decode_exactly(geohash)\n",
    "\n",
    "side_length = 2 * radio\n",
    "lat_min_square = lat_min - side_length\n",
    "lon_min_square = lon_min - side_length\n",
    "lat_max_square = lat_max + side_length\n",
    "lon_max_square = lon_max + side_length\n",
    "\n",
    "print(lat_min, lon_min, lat_max, lon_max)"
   ]
  },
  {
   "cell_type": "code",
   "execution_count": null,
   "id": "41214d2e-c454-42b9-b6ba-18584b790f2a",
   "metadata": {},
   "outputs": [],
   "source": []
  },
  {
   "cell_type": "code",
   "execution_count": null,
   "id": "4b0b542f-e147-4322-8e13-0b5704db6fe4",
   "metadata": {},
   "outputs": [],
   "source": []
  }
 ],
 "metadata": {
  "kernelspec": {
   "display_name": "Python 3 (ipykernel)",
   "language": "python",
   "name": "python3"
  },
  "language_info": {
   "codemirror_mode": {
    "name": "ipython",
    "version": 3
   },
   "file_extension": ".py",
   "mimetype": "text/x-python",
   "name": "python",
   "nbconvert_exporter": "python",
   "pygments_lexer": "ipython3",
   "version": "3.11.1"
  }
 },
 "nbformat": 4,
 "nbformat_minor": 5
}
